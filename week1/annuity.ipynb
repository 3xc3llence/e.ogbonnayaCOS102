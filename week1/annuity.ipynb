{
 "cells": [
  {
   "cell_type": "code",
   "execution_count": 2,
   "id": "687fe41e-b245-4910-8f7c-86372e72e18b",
   "metadata": {},
   "outputs": [
    {
     "name": "stdin",
     "output_type": "stream",
     "text": [
      "Enter the principal amount:  3\n",
      "Enter the interest rate (in percentage):  4\n",
      "Enter the time period (in years):  2\n",
      "Enter the number of times:  3\n"
     ]
    },
    {
     "name": "stdout",
     "output_type": "stream",
     "text": [
      "The Annuity is 360.11419753086386\n"
     ]
    }
   ],
   "source": [
    " # define the value annuity plan\n",
    "def Ap(Principal, Rate, Time, number):\n",
    "    # Put the formula of compound interest\n",
    "    interest = Principal * (-1 +(1 + Rate / number) ** (number * Time) / (Rate / number))\n",
    "    return interest\n",
    "    \n",
    "# input values\n",
    "Principal = float(input(\"Enter the principal amount: \"))\n",
    "Rate = float(input(\"Enter the interest rate (in percentage): \"))\n",
    "Time = float(input(\"Enter the time period (in years): \"))\n",
    "number = float(input(\"Enter the number of times: \"))\n",
    "#calculate and print the simple interest\n",
    "interest = Ap(Principal, Rate, Time, number)\n",
    "print(\"The Annuity is\", interest)"
   ]
  },
  {
   "cell_type": "code",
   "execution_count": null,
   "id": "46c826a4-612f-4f57-b1c2-cd56722ca65e",
   "metadata": {},
   "outputs": [],
   "source": []
  }
 ],
 "metadata": {
  "kernelspec": {
   "display_name": "Python 3 (ipykernel)",
   "language": "python",
   "name": "python3"
  },
  "language_info": {
   "codemirror_mode": {
    "name": "ipython",
    "version": 3
   },
   "file_extension": ".py",
   "mimetype": "text/x-python",
   "name": "python",
   "nbconvert_exporter": "python",
   "pygments_lexer": "ipython3",
   "version": "3.11.7"
  }
 },
 "nbformat": 4,
 "nbformat_minor": 5
}
