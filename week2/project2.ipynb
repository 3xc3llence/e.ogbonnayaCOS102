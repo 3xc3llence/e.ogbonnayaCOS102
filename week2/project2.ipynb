{
 "cells": [
  {
   "cell_type": "code",
   "execution_count": 1,
   "id": "f49e6986-2fda-44a2-9026-7caca412153b",
   "metadata": {},
   "outputs": [
    {
     "name": "stdout",
     "output_type": "stream",
     "text": [
      "Choose an operation:\n",
      "1. Solve Quadratic Equation\n",
      "2. Solve Cubic Equation\n",
      "3. Solve Quartic Equation\n"
     ]
    },
    {
     "name": "stdin",
     "output_type": "stream",
     "text": [
      "Enter your choice (1, 2, or 3):  2\n",
      "Enter the coefficient of x^3:  3\n",
      "Enter the coefficient of x^2:  3\n",
      "Enter the coefficient of x:  2\n",
      "Enter the constant:  1\n"
     ]
    },
    {
     "name": "stdout",
     "output_type": "stream",
     "text": [
      "The roots of the cubic equation are: [(-0.7180571650604797+0j), (-0.14097141746975952+0.6665903189796911j), (-0.14097141746975952-0.6665903189796911j)]\n"
     ]
    }
   ],
   "source": [
    "import numpy as np\n",
    "\n",
    "def solve_quadratic(a, b, c):\n",
    "    roots = np.roots([a, b, c])\n",
    "    return roots.tolist()\n",
    "\n",
    "def solve_cubic(a, b, c, d):\n",
    "    roots = np.roots([a, b, c, d])\n",
    "    return roots.tolist()\n",
    "\n",
    "def solve_quartic(a, b, c, d, e):\n",
    "    roots = np.roots([a, b, c, d, e])\n",
    "    return roots.tolist()\n",
    "\n",
    "def main():\n",
    "    print(\"Choose an operation:\")\n",
    "    print(\"1. Solve Quadratic Equation\")\n",
    "    print(\"2. Solve Cubic Equation\")\n",
    "    print(\"3. Solve Quartic Equation\")\n",
    "    choice = input(\"Enter your choice (1, 2, or 3): \")\n",
    "\n",
    "    if choice == '1':\n",
    "        a = float(input(\"Enter the coefficient of x^2: \"))\n",
    "        b = float(input(\"Enter the coefficient of x: \"))\n",
    "        c = float(input(\"Enter the constant: \"))\n",
    "        roots = solve_quadratic(a, b, c)\n",
    "        print(\"The roots of the quadratic equation are:\", roots)\n",
    "    elif choice == '2':\n",
    "        a = float(input(\"Enter the coefficient of x^3: \"))\n",
    "        b = float(input(\"Enter the coefficient of x^2: \"))\n",
    "        c = float(input(\"Enter the coefficient of x: \"))\n",
    "        d = float(input(\"Enter the constant: \"))\n",
    "        roots = solve_cubic(a, b, c, d)\n",
    "        print(\"The roots of the cubic equation are:\", roots)\n",
    "    elif choice == '3':\n",
    "        a = float(input(\"Enter the coefficient of x^4: \"))\n",
    "        b = float(input(\"Enter the coefficient of x^3: \"))\n",
    "        c = float(input(\"Enter the coefficient of x^2: \"))\n",
    "        d = float(input(\"Enter the coefficient of x: \"))\n",
    "        e = float(input(\"Enter the constant: \"))\n",
    "        roots = solve_quartic(a, b, c, d, e)\n",
    "        print(\"The roots of the quartic equation are:\", roots)\n",
    "    else:\n",
    "        print(\"Invalid choice. Please try again.\")\n",
    "\n",
    "if __name__ == \"__main__\":\n",
    "    main()"
   ]
  },
  {
   "cell_type": "code",
   "execution_count": null,
   "id": "20a371fb-dda3-4b15-a4a8-9c393c0a3cac",
   "metadata": {},
   "outputs": [],
   "source": []
  }
 ],
 "metadata": {
  "kernelspec": {
   "display_name": "Python 3 (ipykernel)",
   "language": "python",
   "name": "python3"
  },
  "language_info": {
   "codemirror_mode": {
    "name": "ipython",
    "version": 3
   },
   "file_extension": ".py",
   "mimetype": "text/x-python",
   "name": "python",
   "nbconvert_exporter": "python",
   "pygments_lexer": "ipython3",
   "version": "3.11.7"
  }
 },
 "nbformat": 4,
 "nbformat_minor": 5
}
