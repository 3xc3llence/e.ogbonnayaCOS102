{
 "cells": [
  {
   "cell_type": "code",
   "execution_count": 12,
   "id": "74aaf5ab-9c83-45c6-8598-217583cbb00d",
   "metadata": {},
   "outputs": [
    {
     "name": "stdin",
     "output_type": "stream",
     "text": [
      "Enter the principal amount:  3\n",
      "Enter the interest rate (in percentage):  4\n",
      "Enter the time period (in years):  2\n"
     ]
    },
    {
     "name": "stdout",
     "output_type": "stream",
     "text": [
      "The simple Interest is 3.24\n"
     ]
    }
   ],
   "source": [
    " # define the value simple interest\n",
    "def As(Principal, Rate, Time):\n",
    "    # Put the formula of simple interest\n",
    "    interest = Principal + ((Principal * Rate * Time) / 100)\n",
    "    return interest\n",
    "    \n",
    "# input values\n",
    "Principal = float(input(\"Enter the principal amount: \"))\n",
    "Rate = float(input(\"Enter the interest rate (in percentage): \"))\n",
    "Time = float(input(\"Enter the time period (in years): \"))\n",
    "\n",
    "#calculate and print the simple interest\n",
    "interest = As(Principal, Rate, Time)\n",
    "print(\"The simple Interest is\", interest)"
   ]
  },
  {
   "cell_type": "code",
   "execution_count": null,
   "id": "bd067757-677a-4f75-b53a-706272093e04",
   "metadata": {},
   "outputs": [],
   "source": []
  }
 ],
 "metadata": {
  "kernelspec": {
   "display_name": "Python 3 (ipykernel)",
   "language": "python",
   "name": "python3"
  },
  "language_info": {
   "codemirror_mode": {
    "name": "ipython",
    "version": 3
   },
   "file_extension": ".py",
   "mimetype": "text/x-python",
   "name": "python",
   "nbconvert_exporter": "python",
   "pygments_lexer": "ipython3",
   "version": "3.11.7"
  }
 },
 "nbformat": 4,
 "nbformat_minor": 5
}
