{
 "cells": [
  {
   "cell_type": "code",
   "execution_count": 6,
   "id": "2eadf488-a04c-4173-84d5-4627f761d59f",
   "metadata": {},
   "outputs": [
    {
     "name": "stdin",
     "output_type": "stream",
     "text": [
      "Enter the principal amount:  10000\n",
      "Enter the interest rate (in percentage):  0.06\n",
      "Enter the time period (in years):  20\n",
      "Enter the number of times:  12\n"
     ]
    },
    {
     "name": "stdout",
     "output_type": "stream",
     "text": [
      "The simple Interest is 33102.044758073636\n"
     ]
    }
   ],
   "source": [
    " # define the value compound interest\n",
    "def Cs(Principal, Rate, Time, number):\n",
    "    # Put the formula of compound interest\n",
    "    interest = Principal * ((1 + Rate / number) ** (number * Time))\n",
    "    return interest\n",
    "    \n",
    "# input values\n",
    "Principal = float(input(\"Enter the principal amount: \"))\n",
    "Rate = float(input(\"Enter the interest rate (in percentage): \"))\n",
    "Time = float(input(\"Enter the time period (in years): \"))\n",
    "number = float(input(\"Enter the number of times: \"))\n",
    "#calculate and print the simple interest\n",
    "interest = Cs(Principal, Rate, Time, number)\n",
    "print(\"The simple Interest is\", interest)"
   ]
  },
  {
   "cell_type": "code",
   "execution_count": null,
   "id": "e96f71bc-619d-45fc-bdc6-13b91330212e",
   "metadata": {},
   "outputs": [],
   "source": []
  }
 ],
 "metadata": {
  "kernelspec": {
   "display_name": "Python 3 (ipykernel)",
   "language": "python",
   "name": "python3"
  },
  "language_info": {
   "codemirror_mode": {
    "name": "ipython",
    "version": 3
   },
   "file_extension": ".py",
   "mimetype": "text/x-python",
   "name": "python",
   "nbconvert_exporter": "python",
   "pygments_lexer": "ipython3",
   "version": "3.11.7"
  }
 },
 "nbformat": 4,
 "nbformat_minor": 5
}
